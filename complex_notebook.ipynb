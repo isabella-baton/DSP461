{
  "cells": [
    {
      "cell_type": "markdown",
      "metadata": {
        "id": "l9JUBsD3z2ke"
      },
      "source": [
        "# Importing Modules:"
      ]
    },
    {
      "cell_type": "code",
      "execution_count": null,
      "metadata": {
        "id": "SrVfW4arg_5Z"
      },
      "outputs": [],
      "source": [
        "#data import\n",
        "import kagglehub\n",
        "\n",
        "#data handling\n",
        "import pandas as pd\n",
        "import numpy as np\n",
        "\n",
        "#data processing/machine learning\n",
        "from sklearn.model_selection import train_test_split, GridSearchCV\n",
        "from sklearn.preprocessing import StandardScaler\n",
        "from sklearn.decomposition import PCA\n",
        "import torch\n",
        "import torch.nn as nn\n",
        "import torch.optim as optim\n",
        "from sklearn.metrics import accuracy_score, pairwise_distances, confusion_matrix\n",
        "from torch.optim.lr_scheduler import CyclicLR\n",
        "from torch.utils.data import DataLoader, TensorDataset\n",
        "from sklearn.utils.class_weight import compute_class_weight\n",
        "from sklearn.linear_model import LogisticRegression\n",
        "\n",
        "#data visualization\n",
        "from matplotlib_venn import venn3\n",
        "import matplotlib.pyplot as plt"
      ]
    },
    {
      "cell_type": "markdown",
      "metadata": {
        "id": "2q3mi9oPAc8b"
      },
      "source": [
        "# Importing + Processing Dataset:"
      ]
    },
    {
      "cell_type": "markdown",
      "metadata": {
        "id": "70SxO62bDz3k"
      },
      "source": [
        "## Importing Data:"
      ]
    },
    {
      "cell_type": "code",
      "source": [
        "def importData():\n",
        "  #download latest version of the file\n",
        "  path = kagglehub.dataset_download(\"vingkan/strategeion-resume-skills\")\n",
        "\n",
        "  #open the resumes_development.csv\n",
        "  dev_data = pd.read_csv(path + '/resumes_development.csv')\n",
        "  pilot_data = pd.read_csv(path + '/resumes_pilot.csv')\n",
        "\n",
        "  #display info on data\n",
        "  dev_data.info()\n",
        "  print()\n",
        "  pilot_data.info()\n",
        "  print()\n",
        "\n",
        "  #display shapes\n",
        "  print(dev_data.shape, pilot_data.shape)\n",
        "\n",
        "  return dev_data, pilot_data"
      ],
      "metadata": {
        "id": "mWDAHdhQF7lc"
      },
      "execution_count": null,
      "outputs": []
    },
    {
      "cell_type": "markdown",
      "metadata": {
        "id": "UzWIN0OQD1JV"
      },
      "source": [
        "## Processing Data:"
      ]
    },
    {
      "cell_type": "code",
      "execution_count": null,
      "metadata": {
        "id": "C9QLDUrxFXUq"
      },
      "outputs": [],
      "source": [
        "def processData(data):\n",
        "  #drop the id columns and missing values\n",
        "  if 'Unnamed: 0' in data.columns:\n",
        "    data = data.drop('Unnamed: 0', axis=1).dropna()\n",
        "\n",
        "  #splitting the x and y into features and target\n",
        "  x = data.iloc[:, 1:]\n",
        "  y = data.iloc[:, 0]\n",
        "\n",
        "  #turn all items into pytorch tensors\n",
        "  x = torch.tensor(x.values, dtype=torch.float32)\n",
        "  y = torch.tensor(y.values, dtype=torch.float32)\n",
        "\n",
        "  #printing out the shapes to ensure they match\n",
        "  print(f\"Data Shapes: {x.shape, y.shape}\\n\")\n",
        "\n",
        "  #returning the proccessed data\n",
        "  return x, y"
      ]
    },
    {
      "cell_type": "markdown",
      "metadata": {
        "id": "4OUoScwV6atY"
      },
      "source": [
        "## Scaling/Splitting Data:"
      ]
    },
    {
      "cell_type": "code",
      "execution_count": null,
      "metadata": {
        "id": "eATnKEFH94Ad"
      },
      "outputs": [],
      "source": [
        "def trainTestScaling(x, y, rstate):\n",
        "  #standardize features\n",
        "  scaler = StandardScaler()\n",
        "  x_scaled = scaler.fit_transform(x)\n",
        "\n",
        "  #turn into pytorch tensor\n",
        "  x_scaled = torch.tensor(x_scaled, dtype=torch.float32)\n",
        "\n",
        "  #train test split\n",
        "  X_train, X_test, y_train, y_test = train_test_split(\n",
        "    x_scaled, y, train_size = 0.7, random_state = rstate\n",
        "  )\n",
        "\n",
        "  #train test split\n",
        "  _, unscaled, _, _ = train_test_split(\n",
        "    x, y, train_size = 0.7, random_state = rstate\n",
        "  )\n",
        "\n",
        "  #return data\n",
        "  return X_train, X_test, y_train, y_test, unscaled"
      ]
    },
    {
      "cell_type": "markdown",
      "metadata": {
        "id": "tnf2lUVIHao1"
      },
      "source": [
        "# Preliminary Data Analysis:"
      ]
    },
    {
      "cell_type": "markdown",
      "metadata": {
        "id": "b4TthsohUJ-0"
      },
      "source": [
        "## Veteran vs. Civilian Count Analysis:"
      ]
    },
    {
      "cell_type": "code",
      "source": [
        "def vet_civ_pie(dev_data, pilot_data):\n",
        "  #calc vet and civ counts for the dev data\n",
        "  dev_vetCount = dev_data[dev_data['Veteran'] == 1].shape[0]\n",
        "  dev_civCount = dev_data[dev_data['Veteran'] == 0].shape[0]\n",
        "\n",
        "  #calc vet and civ counts for pilot data\n",
        "  pilot_vetCount = pilot_data[pilot_data['Veteran'] == 1].shape[0]\n",
        "  pilot_civCount = pilot_data[pilot_data['Veteran'] == 0].shape[0]\n",
        "\n",
        "  #create labels for the plot\n",
        "  labels = ['Veterans', 'Civilians']\n",
        "\n",
        "  #get the sizes of each slice of the pie\n",
        "  dev_sizes = [dev_vetCount, dev_civCount]\n",
        "  pilot_sizes = [pilot_vetCount, pilot_civCount]\n",
        "\n",
        "  #create the development plot\n",
        "  plt.subplot(1, 2, 1)\n",
        "  plt.pie(dev_sizes, labels = labels, autopct = '%1.1f%%', startangle = 90, colors = ['lightblue', 'pink'])\n",
        "  plt.title('Development')\n",
        "\n",
        "  #create the pilot plot\n",
        "  plt.subplot(1, 2, 2)\n",
        "  plt.pie(pilot_sizes, labels = labels, autopct = '%1.1f%%', startangle = 90, colors = ['lightblue', 'pink'])\n",
        "  plt.title('Pilot')\n",
        "\n",
        "  #display both plots\n",
        "  plt.tight_layout()\n",
        "  plt.show()"
      ],
      "metadata": {
        "id": "N0sCabG6GTLK"
      },
      "execution_count": null,
      "outputs": []
    },
    {
      "cell_type": "markdown",
      "metadata": {
        "id": "I-gGY9Li7-kA"
      },
      "source": [
        "## Protected Features Count Analysis:"
      ]
    },
    {
      "cell_type": "code",
      "execution_count": null,
      "metadata": {
        "id": "qb2f12eN8GD-"
      },
      "outputs": [],
      "source": [
        "def computeRates(data):\n",
        "  #dictionary for results\n",
        "  results = {}\n",
        "\n",
        "  #for veterans and then civilians\n",
        "  for val, name in [(1, 'Veteran'), (0, 'Civilian')]:\n",
        "    #set temp data to where the veteran status matches\n",
        "    tempData = data[data['Veteran'] == val]\n",
        "\n",
        "    #get the total count of vets/civs\n",
        "    totalCount = len(tempData)\n",
        "\n",
        "    #if the total count isnt 0 (dummy proofing)\n",
        "    if(totalCount > 0):\n",
        "      #get the rates of all females/males, etc etc\n",
        "      results[name] = {\n",
        "          'Female': int(tempData['Female'].sum()),\n",
        "          'Male': int(len(tempData) - tempData['Female'].sum()),\n",
        "          'URM': int(tempData['URM'].sum()),\n",
        "          'Non-URM': int(len(tempData) - tempData['URM'].sum()),\n",
        "          'Disability': int(tempData['Disability'].sum()),\n",
        "          'Non-Disability': int(len(tempData) - tempData['Disability'].sum())\n",
        "      }\n",
        "    #if the total count is 0, set evetything to -\n",
        "    else:\n",
        "      results[name] = {\n",
        "          'Female': 0,\n",
        "          'Male': 0,\n",
        "          'URM': 0,\n",
        "          'Non-URM': 0,\n",
        "          'Disability': 0,\n",
        "          'Non-Disability': 0\n",
        "      }\n",
        "\n",
        "  #return the rate results\n",
        "  return results"
      ]
    },
    {
      "cell_type": "code",
      "source": [
        "def vet_civ_stacked_column(dev_data, pilot_data):\n",
        "  #compute the counts for dev and pilot\n",
        "  devCounts = computeRates(dev_data)\n",
        "  pilotCounts = computeRates(pilot_data)\n",
        "\n",
        "  #create the categories for the x\n",
        "  categories = ['Female', 'Male', 'URM', 'Non-URM', 'Disability', 'Non-Disability']\n",
        "  x = np.arange(len(categories))\n",
        "\n",
        "  #gets data for development chart\n",
        "  dev_civVals = [devCounts['Civilian'][cat] for cat in categories]\n",
        "  dev_vetVals = [devCounts['Veteran'][cat] for cat in categories]\n",
        "\n",
        "  #so they're side by side\n",
        "  plt.subplot(1, 2, 1)\n",
        "\n",
        "  #creates the bars\n",
        "  plt.bar(x, dev_civVals, 0.5, label = 'Civilian', color = \"pink\")\n",
        "  plt.bar(x, dev_vetVals, 0.5, label = 'Veteran', bottom = dev_civVals, color = \"lightblue\")\n",
        "\n",
        "  #adds labels\n",
        "  plt.title('Development')\n",
        "  plt.xticks(ticks = x, labels = categories, fontsize = 8, rotation = 90)\n",
        "  plt.legend(loc = 'upper left', fontsize = 8)\n",
        "\n",
        "  #loop through the categories to create the\n",
        "  for i in range(len(categories)):\n",
        "    total_height = dev_civVals[i] + dev_vetVals[i]\n",
        "    #civilian counts\n",
        "    plt.text(x[i], dev_civVals[i] / 2,\n",
        "            str(dev_civVals[i]),\n",
        "            ha = 'center', va = 'center', fontsize = 7, color = 'black')\n",
        "\n",
        "    #veteran counts\n",
        "    plt.text(x[i], total_height - dev_vetVals[i] / 2,\n",
        "            str(dev_vetVals[i]),\n",
        "            ha = 'center', va = 'center', fontsize = 7, color = 'black')\n",
        "\n",
        "  plt.tight_layout()\n",
        "\n",
        "  #gets data for pilot chart\n",
        "  pilot_civVals = [pilotCounts['Civilian'][cat] for cat in categories]\n",
        "  pilot_vetVals = [pilotCounts['Veteran'][cat] for cat in categories]\n",
        "\n",
        "  #so they're side by side\n",
        "  plt.subplot(1, 2, 2)\n",
        "\n",
        "  #creates the bars\n",
        "  plt.bar(x, pilot_civVals, 0.5, label = 'Civilian', color = \"pink\")\n",
        "  plt.bar(x, pilot_vetVals, 0.5, label = 'Veteran', bottom = pilot_civVals, color = \"lightblue\")\n",
        "\n",
        "  #adds labels\n",
        "  plt.title('Pilot')\n",
        "  plt.xticks(ticks = x, labels = categories, fontsize = 8, rotation = 90)\n",
        "  plt.legend(loc = 'upper left', fontsize = 8)\n",
        "\n",
        "  for i in range(len(categories)):\n",
        "    total_height = pilot_civVals[i] + pilot_vetVals[i]\n",
        "    #civilian counts\n",
        "    plt.text(x[i], pilot_civVals[i] / 2,\n",
        "            str(pilot_civVals[i]),\n",
        "            ha = 'center', va = 'center', fontsize = 7, color = 'black')\n",
        "\n",
        "    #veteran counts\n",
        "    plt.text(x[i], total_height - pilot_vetVals[i] / 2,\n",
        "            str(pilot_vetVals[i]),\n",
        "            ha = 'center', va = 'center', fontsize = 7, color = 'black')\n",
        "\n",
        "  plt.tight_layout()\n",
        "\n",
        "  #displays the plots\n",
        "  plt.show()"
      ],
      "metadata": {
        "id": "QAdva0TUHNjZ"
      },
      "execution_count": null,
      "outputs": []
    },
    {
      "cell_type": "markdown",
      "metadata": {
        "id": "3vrXUNi9D5cB"
      },
      "source": [
        "## Protected Features Intersection Analysis:"
      ]
    },
    {
      "cell_type": "code",
      "source": [
        "def protected_features_venn_counts(data):\n",
        "  #initialize the counts for all of the features\n",
        "  counts = {\n",
        "      'Female': 0,\n",
        "      'URM': 0,\n",
        "      'Disability': 0,\n",
        "      'Female and URM': 0,\n",
        "      'Female and Disability': 0,\n",
        "      'URM and Disability': 0,\n",
        "      'Female, URM, and Disability': 0\n",
        "  }\n",
        "\n",
        "  #go through all the data and based on the protected class, add to the dictionary\n",
        "  for i in range(len(data)):\n",
        "      row = data.iloc[i]\n",
        "      if row['Female']:\n",
        "        counts['Female'] += 1\n",
        "      if row['URM']:\n",
        "        counts['URM'] += 1\n",
        "      if row['Disability']:\n",
        "        counts['Disability'] += 1\n",
        "      if row['Female'] and row['URM']:\n",
        "        counts['Female and URM'] += 1\n",
        "      if row['Female'] and row['Disability']:\n",
        "        counts['Female and Disability'] += 1\n",
        "      if row['URM'] and row['Disability']:\n",
        "        counts['URM and Disability'] += 1\n",
        "      if row['Female'] and row['URM'] and row['Disability']:\n",
        "        counts['Female, URM, and Disability'] += 1\n",
        "\n",
        "  #return the dictionary\n",
        "  return counts\n"
      ],
      "metadata": {
        "id": "U8ZxE9NmJ-uj"
      },
      "execution_count": null,
      "outputs": []
    },
    {
      "cell_type": "code",
      "source": [
        "def protected_features_venn_plots(titles, *counts):\n",
        "  #get the counts and create the titles\n",
        "  val_counts = [count for count in counts]\n",
        "  assert len(titles) == len(val_counts), f\"{len(titles)} != {len(val_counts)}\"\n",
        "\n",
        "  #create the venn\n",
        "  n = len(val_counts)\n",
        "  for i in range(n):\n",
        "    plt.subplot(1, n, i + 1)\n",
        "    venn3(subsets=(tuple(val_counts[i].values())), set_labels=('Female', 'URM', 'Disability'))\n",
        "    plt.title(titles[i])\n",
        "\n",
        "  #show the plots\n",
        "  plt.show()"
      ],
      "metadata": {
        "id": "XYpH7m3UKpRE"
      },
      "execution_count": null,
      "outputs": []
    },
    {
      "cell_type": "markdown",
      "metadata": {
        "id": "CGtDw64AG6oT"
      },
      "source": [
        "# Bias Analysis:"
      ]
    },
    {
      "cell_type": "code",
      "execution_count": null,
      "metadata": {
        "id": "f9jthoaVG3oB"
      },
      "outputs": [],
      "source": [
        "def bias_loss(data, interview):\n",
        "\n",
        "  prot_feats = ['Female', 'URM', 'Disability']\n",
        "  unprot_feat = 'Veteran'\n",
        "\n",
        "  # init state\n",
        "  sum_loss = 0\n",
        "  loss_n = 0\n",
        "  output = {'Female': {\n",
        "              'Veteran': {'pos_rate': 0, 'neg_rate': 0, 'rate_diff': 0},\n",
        "              'Civilian': {'pos_rate': 0, 'neg_rate': 0, 'rate_diff': 0}},\n",
        "            'URM': {\n",
        "              'Veteran': {'pos_rate': 0, 'neg_rate': 0, 'rate_diff': 0},\n",
        "              'Civilian': {'pos_rate': 0, 'neg_rate': 0, 'rate_diff': 0}},\n",
        "            'Disability': {\n",
        "              'Veteran': {'pos_rate': 0, 'neg_rate': 0, 'rate_diff': 0},\n",
        "              'Civilian': {'pos_rate': 0, 'neg_rate': 0, 'rate_diff': 0}}}\n",
        "\n",
        "  # iterate\n",
        "  for prot_feat in prot_feats:\n",
        "    for unprot_name, unprot_value in [('Veteran', 1), ('Civilian', 0)]:\n",
        "      total = data[( data[unprot_feat] == unprot_value)]\n",
        "      # get matching applicants\n",
        "      pos_total = total[( total[prot_feat] == 1 )]\n",
        "      neg_total = total[( total[prot_feat] == 0 )]\n",
        "\n",
        "      # get matching accepted applicants\n",
        "      pos_hired = pos_total[( pos_total[interview] == 1 )]\n",
        "      neg_hired = neg_total[( neg_total[interview] == 1 )]\n",
        "\n",
        "      # get lengths\n",
        "      pos_total = len(pos_total)\n",
        "      neg_total = len(neg_total)\n",
        "      pos_hired = len(pos_hired)\n",
        "      neg_hired = len(neg_hired)\n",
        "\n",
        "      # get loss for this feature\n",
        "      if (pos_total > 0): # female acceptance rate\n",
        "        pos_rate = pos_hired / pos_total\n",
        "      else:\n",
        "        pos_rate = 0\n",
        "\n",
        "      if (neg_total > 0): # male acceptance rate\n",
        "        neg_rate = neg_hired / neg_total\n",
        "      else:\n",
        "        neg_rate = 0\n",
        "\n",
        "      rate_diff = neg_rate - pos_rate\n",
        "      sum_loss += rate_diff\n",
        "      loss_n += 1\n",
        "\n",
        "      output[prot_feat][unprot_name]['pos_rate'] = pos_rate\n",
        "      output[prot_feat][unprot_name]['neg_rate'] = neg_rate\n",
        "      output[prot_feat][unprot_name]['rate_diff'] = rate_diff\n",
        "\n",
        "  return output"
      ]
    },
    {
      "cell_type": "markdown",
      "metadata": {
        "id": "zrHbWXbzO9D6"
      },
      "source": [
        "# Adjustments:"
      ]
    },
    {
      "cell_type": "markdown",
      "metadata": {
        "id": "rH7Sytvfh3Bd"
      },
      "source": [
        "### Pre-Vet:"
      ]
    },
    {
      "cell_type": "code",
      "execution_count": null,
      "metadata": {
        "id": "QKSTX4-KPw3q"
      },
      "outputs": [],
      "source": [
        "def calcDiff(data, feature):\n",
        "  #calculates the pos rate\n",
        "  pos = data[data[feature] == 1]\n",
        "  if len(pos) > 0:\n",
        "    posRate = pos['interview'].mean()\n",
        "  else:\n",
        "    posRate = 0\n",
        "\n",
        "  #calculates the neg rate\n",
        "  neg = data[data[feature] == 0]\n",
        "  if len(neg) > 0:\n",
        "    negRate = neg['interview'].mean()\n",
        "  else:\n",
        "    negRate = 0\n",
        "\n",
        "  #returns 0 if they're both 0\n",
        "  if posRate == 0 and negRate == 0:\n",
        "    return 0\n",
        "\n",
        "  #calculates the rate difference\n",
        "  rateDiff = negRate - posRate\n",
        "\n",
        "  #returns the rate difference\n",
        "  return abs(rateDiff)"
      ]
    },
    {
      "cell_type": "code",
      "execution_count": null,
      "metadata": {
        "id": "Qzo8hwyaRIZl"
      },
      "outputs": [],
      "source": [
        "def calcAdj(data, feature, lr, epochs):\n",
        "  adj = 0.0\n",
        "\n",
        "  #split data into when feature == 1 and 0\n",
        "  dataPos = data[data[feature] == 1]\n",
        "  dataNeg = data[data[feature] == 0]\n",
        "\n",
        "  #get probabilities\n",
        "  probsPos = dataPos['proba']\n",
        "  probsNeg = dataNeg['proba']\n",
        "\n",
        "  for epoch in range(epochs):\n",
        "    #calculate adjusted probability\n",
        "    adjProb = probsPos + adj\n",
        "\n",
        "    #calculate acceptance rates\n",
        "    accPos = np.mean(adjProb > 0.5)\n",
        "    accNeg = np.mean(probsNeg > 0.5)\n",
        "\n",
        "    #check for convergance\n",
        "    loss = abs(accNeg - accPos)\n",
        "    if loss < 0.01:\n",
        "      break\n",
        "\n",
        "    #update adjustment\n",
        "    adj += lr * (accNeg - accPos)\n",
        "\n",
        "  return adj"
      ]
    },
    {
      "cell_type": "code",
      "execution_count": null,
      "metadata": {
        "id": "a9pdI9zqPBTo"
      },
      "outputs": [],
      "source": [
        "def fixProbs(data, feature, vetAdj, civAdj):\n",
        "  #make sure the probabilities are floats\n",
        "  data['proba'] = data['proba'].astype(float)\n",
        "\n",
        "  #loops through all the data\n",
        "  for i in range(len(data)):\n",
        "    #checks if the data matches the feature\n",
        "    if data.iloc[i][feature]:\n",
        "      #checks veteran status\n",
        "      if data.iloc[i, data.columns.get_loc('Veteran')] == 1:\n",
        "        #adds the veteran adjustment\n",
        "        data.iloc[i, data.columns.get_loc('proba')] += vetAdj\n",
        "      else:\n",
        "        #adds the civilian adjustment\n",
        "        data.iloc[i, data.columns.get_loc('proba')] += civAdj\n",
        "\n",
        "  #return the updated data\n",
        "  return data"
      ]
    },
    {
      "cell_type": "code",
      "source": [
        "def probAdjustment(data, unscaled, probs, preds, y_data, lr_Ac, lr_Av, epochs_A):\n",
        "  #initializes variables for later\n",
        "  alphas = {}\n",
        "\n",
        "  #add predictions and probabilities to a dataframe\n",
        "  df = pd.DataFrame(unscaled.numpy(), columns = data.columns[2:])\n",
        "  df['proba'] = probs.numpy()\n",
        "  df['pred'] = preds.numpy()\n",
        "  df['interview'] = y_data.numpy()\n",
        "\n",
        "  #saving the pre adjustment for exportation\n",
        "  df['pre_proba'] = df['proba'].copy()\n",
        "\n",
        "  #prot feats and groups\n",
        "  prot_feats = ['Female', 'URM', 'Disability']\n",
        "  groups = [('Veteran', 1), ('Civilian', 0)]\n",
        "\n",
        "  # pre-adjustment bias ratings\n",
        "  print(\"Pre-Adjustment Bias Summary\\n\")\n",
        "  biasRatings(df, 'pred', prot_feats)\n",
        "\n",
        "  #print statement for clarity\n",
        "  print()\n",
        "\n",
        "  for feat in prot_feats:\n",
        "    #gets the data for vets and civs\n",
        "    dataVet = df[df['Veteran'] == 1]\n",
        "    dataCiv = df[df['Veteran'] == 0]\n",
        "\n",
        "    #gets the alphas for that feature's vets/civs\n",
        "    vetAlpha = calcAdj(dataVet, feat, lr_Av, epochs_A)\n",
        "    civAlpha = calcAdj(dataCiv, feat, lr_Ac, epochs_A)\n",
        "\n",
        "    #get the difference in rates for vererans and civilians\n",
        "    vetDiff = calcDiff(dataVet, feat)\n",
        "    civDiff = calcDiff(dataCiv, feat)\n",
        "\n",
        "    #updates the alphas dictionary with those values\n",
        "    alphas[feat] = {'vet': vetAlpha, 'civ': civAlpha, 'vetDiff': vetDiff, 'civDiff': civDiff}\n",
        "\n",
        "    #updates the probabilities\n",
        "    df = fixProbs(df, feat, vetAlpha, civAlpha)\n",
        "\n",
        "\n",
        "  #clips the probabilities so they don't go above 1 or below 0\n",
        "  df['proba'] = np.clip(df['proba'], 0, 1)\n",
        "\n",
        "  #saving the post adjustment for exportation\n",
        "  df['post_proba'] = df['proba']\n",
        "\n",
        "  #updates the \"new interview\" feature to have the updated predictions\n",
        "  df['new_interview'] = (df['proba'] >= 0.5).astype(int)\n",
        "\n",
        "  #prints the accuracy of the old to new interview scores\n",
        "  accuracy = accuracy_score(df['interview'], df['new_interview'])\n",
        "  print(f'Accuracy: {accuracy * 100:.2f}%')\n",
        "\n",
        "  #post-adjustment bias ratings\n",
        "  print(\"Post-Adjustment Bias Summary\")\n",
        "  biasRatings(df, 'new_interview', prot_feats)\n",
        "  print()\n",
        "\n",
        "\n",
        "  return df, alphas"
      ],
      "metadata": {
        "id": "aXowasRfUpSS"
      },
      "execution_count": null,
      "outputs": []
    },
    {
      "cell_type": "markdown",
      "metadata": {
        "id": "ZpMaMCPah5Mt"
      },
      "source": [
        "### Vet:"
      ]
    },
    {
      "cell_type": "code",
      "source": [
        "def finalAdjustment(data, feature, tV, tC, threshold, lr=0.01, epochs=5000):\n",
        "    adj1 = 0.0\n",
        "    adj2 = 0.0\n",
        "\n",
        "    # Pos = Vet, Neg = Civ\n",
        "    dataPos = data[data[feature] == 1]\n",
        "    dataNeg = data[data[feature] == 0]\n",
        "\n",
        "    # Get probabilities\n",
        "    probsPos = dataPos['post_proba']\n",
        "    probsNeg = dataNeg['post_proba']\n",
        "\n",
        "    # Initialize accuracy\n",
        "    accPos = np.mean(probsPos > 0.5)\n",
        "    accNeg = np.mean(probsNeg > 0.5)\n",
        "\n",
        "    # Initialize valid checks for thresholds\n",
        "    valid1 = True\n",
        "    valid2 = True\n",
        "\n",
        "    for epoch in range(epochs):\n",
        "        # Stop scaling when thresholds are met\n",
        "        if not valid1 and not valid2:\n",
        "            break\n",
        "\n",
        "        # Calculate losses if still valid\n",
        "        if valid1:\n",
        "            loss1 = abs(tV - accPos)\n",
        "        if valid2:\n",
        "            loss2 = abs(tC - accNeg)\n",
        "\n",
        "        # Adjust for valid1\n",
        "        if valid1:\n",
        "            if loss1 < threshold:\n",
        "                valid1 = False\n",
        "            else:\n",
        "                adjProbVet = probsPos - adj1\n",
        "                accPos = np.mean(adjProbVet > 0.5)\n",
        "                adj1 += lr * (loss1)\n",
        "\n",
        "        # Adjust for valid2\n",
        "        if valid2:\n",
        "            if loss2 < threshold:\n",
        "                valid2 = False\n",
        "            else:\n",
        "                adjProbCiv = probsNeg + adj2\n",
        "                accNeg = np.mean(adjProbCiv > 0.5)\n",
        "                adj2 += lr * (loss2)\n",
        "\n",
        "        # Log progress every 100 epochs\n",
        "        if epoch % 100 == 0:\n",
        "            print(f'Epoch {epoch}, Loss: {loss1 + loss2}, Adj1: {adj1}, Adj2: {adj2}')\n",
        "\n",
        "    return data, adj1, adj2\n"
      ],
      "metadata": {
        "id": "Iuf-smQ_gTGF"
      },
      "execution_count": null,
      "outputs": []
    },
    {
      "cell_type": "code",
      "source": [
        "def fixProbs2(data, feature, adj1, adj2):\n",
        "    # Pos = Vet, Neg = Civ\n",
        "    dataPos = data[data[feature] == 1]\n",
        "    dataNeg = data[data[feature] == 0]\n",
        "\n",
        "    # Get probabilities\n",
        "    probsPos = dataPos['post_proba']\n",
        "    probsNeg = dataNeg['post_proba']\n",
        "\n",
        "    new_vet_probas = probsPos - adj1\n",
        "    new_civ_probas = probsNeg + adj2\n",
        "    new_probas = pd.concat([new_vet_probas, new_civ_probas]).sort_index()\n",
        "\n",
        "    # Calculate new interview probabilities\n",
        "    newer_interview = new_probas.apply(lambda x: 1 if x > 0.5 else 0)\n",
        "    data.insert(0, 'newer_interview', newer_interview)\n",
        "\n",
        "    # Final rates\n",
        "    vet_final_rate = data[data[\"Veteran\"] == 1][\"newer_interview\"].mean()\n",
        "    civ_final_rate = data[data[\"Veteran\"] == 0][\"newer_interview\"].mean()\n",
        "\n",
        "    #remove newer interview\n",
        "    if 'newer_interview' in data.columns:\n",
        "        data = data.drop(columns=['newer_interview'])\n",
        "\n",
        "    print(f\"Vet Final Rate: {vet_final_rate}\")\n",
        "    print(f\"Civ Final Rate: {civ_final_rate}\")\n",
        "\n",
        "    return data, new_probas, newer_interview\n"
      ],
      "metadata": {
        "id": "bHgnaL51m_jo"
      },
      "execution_count": null,
      "outputs": []
    },
    {
      "cell_type": "markdown",
      "metadata": {
        "id": "ycwZGaBrO8U0"
      },
      "source": [
        "# Models:"
      ]
    },
    {
      "cell_type": "markdown",
      "source": [
        "## Basic Logistic Regression:"
      ],
      "metadata": {
        "id": "uJFxbipIH0N8"
      }
    },
    {
      "cell_type": "code",
      "source": [
        "def basicRegressor(data):\n",
        "  x_data, y_data = processData(data)\n",
        "  x_train, x_test, y_train, y_test, unscaled = trainTestScaling(x_data, y_data, 42)\n",
        "  model = LogisticRegression()\n",
        "  model.fit(x_train, y_train)\n",
        "  acc = accuracy_score(y_test, model.predict(x_test))\n",
        "  print(f'Accuracy: {acc * 100:.2f}%')\n",
        "  probs = torch.from_numpy(model.predict_proba(x_test)[:,1])\n",
        "  preds = torch.where(probs > 0.5, 1, 0)\n",
        "\n",
        "  return x_data, y_data, model, unscaled, probs, preds, y_test"
      ],
      "metadata": {
        "id": "1GJfQ-zMX76l"
      },
      "execution_count": null,
      "outputs": []
    },
    {
      "cell_type": "markdown",
      "source": [
        "## Binary Logistic Regression:"
      ],
      "metadata": {
        "id": "koidCx5tH2ZU"
      }
    },
    {
      "cell_type": "code",
      "execution_count": null,
      "metadata": {
        "id": "pb1s9F-YNFpC"
      },
      "outputs": [],
      "source": [
        "class BinaryLogisticRegression(nn.Module):\n",
        "  #initializes the model\n",
        "  def __init__(self, input_dim):\n",
        "    super(BinaryLogisticRegression, self).__init__()\n",
        "    #define architecture\n",
        "    self.network = nn.Sequential(\n",
        "        #input layer\n",
        "        nn.Linear(input_dim, 64),\n",
        "        #apply relu\n",
        "        nn.ReLU(),\n",
        "        #dropout to avoid overfitting\n",
        "        nn.Dropout(p = 0.2),\n",
        "        #second layer\n",
        "        nn.Linear(64, 32),\n",
        "        #relu\n",
        "        nn.ReLU(),\n",
        "        #dropout\n",
        "        nn.Dropout(p = 0.2),\n",
        "        #output layer\n",
        "        nn.Linear(32, 1),\n",
        "        #sigmoid activation (0 - 1)\n",
        "        nn.Sigmoid()\n",
        "    )\n",
        "\n",
        "  #forward pass\n",
        "  def forward(self, x):\n",
        "    return self.network(x)\n",
        "\n",
        "#function to train model\n",
        "def train_model(model, x_train, y_train, x_test, y_test, criterion, optimizer, epochs):\n",
        "  #make data for mini batches\n",
        "  dataset = TensorDataset(x_train, y_train)\n",
        "  trainLoader = DataLoader(dataset, batch_size = 32, shuffle = True)\n",
        "\n",
        "  #make variables for checkpointing\n",
        "  bestParams = None\n",
        "  bestAccuracy = 0\n",
        "  patienceCount = 0\n",
        "  patience = 250\n",
        "\n",
        "  #loop through specified epochs\n",
        "  for epoch in range(epochs):\n",
        "    model.train()\n",
        "    for batch_idx, (x, y) in enumerate(trainLoader):\n",
        "      #reset gradients\n",
        "      optimizer.zero_grad()\n",
        "\n",
        "      #forward pass\n",
        "      outputs = model(x)\n",
        "      loss = criterion(outputs, y.unsqueeze(1))\n",
        "\n",
        "      #backward pass\n",
        "      loss.backward()\n",
        "      optimizer.step()\n",
        "\n",
        "    #get accuracy\n",
        "    model.eval()\n",
        "    with torch.no_grad():\n",
        "      test_outputs = model(x_test)\n",
        "      test_predictions = (test_outputs >= 0.5).float()\n",
        "      test_accuracy = (test_predictions.squeeze() == y_test).float().mean().item() * 100\n",
        "\n",
        "    #for every 100 epochs, print accuracy\n",
        "    if (epoch + 1) % 100 == 0:\n",
        "      print(f'Epoch [{epoch+1}/{epochs}], Loss: {loss.item():.10f}, Test Accuracy: {test_accuracy:.2f}%')\n",
        "\n",
        "    if test_accuracy > bestAccuracy:\n",
        "      bestAccuracy = test_accuracy\n",
        "      bestParams = model.state_dict()\n",
        "      patienceCount = 0\n",
        "    else:\n",
        "      patienceCount += 1\n",
        "      if patienceCount >= patience:\n",
        "        print(f'Stopping early due to no improvement in {patience} epochs.')\n",
        "        break\n",
        "\n",
        "  #get best model\n",
        "  if bestParams:\n",
        "    model.load_state_dict(bestParams)\n",
        "    print(f'Best Model Accuracy: {bestAccuracy:.2f}%')\n",
        "\n",
        "  #return the best trained model\n",
        "  return model\n",
        "\n",
        "#function to make predictions\n",
        "def predict(model, x_test):\n",
        "  #disable gradient comp\n",
        "  with torch.no_grad():\n",
        "    #get probabilities from the model\n",
        "    outputs = model(x_test).squeeze()\n",
        "\n",
        "    #convert probs to 0 or 1\n",
        "    predictions = (outputs >= 0.5).float()\n",
        "\n",
        "  #return the predictions and the outputs\n",
        "  return predictions, outputs"
      ]
    },
    {
      "cell_type": "markdown",
      "metadata": {
        "id": "xtuz6zN2QCyn"
      },
      "source": [
        "# Miscellanious Helper Functions:"
      ]
    },
    {
      "cell_type": "code",
      "source": [
        "def biasRatings(data, true, prot_feats):\n",
        "  #get the bias loss\n",
        "  bias = bias_loss(data, true)\n",
        "\n",
        "  #print bias ratings\n",
        "  for prot_feat in prot_feats:\n",
        "    for vet_status in ['Veteran', 'Civilian']:\n",
        "        group = bias[prot_feat][vet_status]\n",
        "        pos_rate = group['pos_rate'] * 100\n",
        "        neg_rate = group['neg_rate'] * 100\n",
        "        rate_diff = group['rate_diff'] * 100\n",
        "        print(f'{prot_feat} {vet_status} Bias: {neg_rate:.2f}% - {pos_rate:.2f}% = {rate_diff:.2f}%')"
      ],
      "metadata": {
        "id": "KUREZSq3VebF"
      },
      "execution_count": null,
      "outputs": []
    },
    {
      "cell_type": "markdown",
      "source": [
        "# Main Application:"
      ],
      "metadata": {
        "id": "ix4O0oDGXN4F"
      }
    },
    {
      "cell_type": "code",
      "source": [
        "from re import A\n",
        "def main():\n",
        "  ## Importing + Processing Dataset\n",
        "  # Importing Data\n",
        "  dev_data, pilot_data = importData()\n",
        "  # Processing Data\n",
        "  x, y = processData(dev_data)\n",
        "  # Scaling Data\n",
        "  X_train, X_test, y_train, y_test, unscaled = trainTestScaling(x, y, 42)\n",
        "\n",
        "  # Data Plots\n",
        "  # Veteran vs Civilian Pie Chart\n",
        "  vet_civ_pie(dev_data, pilot_data)\n",
        "\n",
        "  # Veteran vs Civilian Stacked Column Among Protected Classes\n",
        "  vet_civ_stacked_column(dev_data, pilot_data)\n",
        "\n",
        "  # Protected Feature Venn DIagrams\n",
        "  devCounts = protected_features_venn_counts(dev_data)\n",
        "  pilotCounts = protected_features_venn_counts(pilot_data)\n",
        "  protected_features_venn_plots([\"Development\", \"Pilot\"], devCounts, pilotCounts)\n",
        "\n",
        "  print()\n",
        "\n",
        "  # Basic Logistic Regression\n",
        "  feature_matrix, target_vector, model, unscaled, probs, preds, y_test = basicRegressor(dev_data)\n",
        "\n",
        "  # Variables for Bias Adjustment:\n",
        "  lr_Ac = 0.001\n",
        "  lr_Av = 0.001\n",
        "  epochs_A = 5000\n",
        "\n",
        "  # Bias Adjustment #1\n",
        "  print(\"\\nPerforming Protected Feature Bias Adjustment #1\\n\")\n",
        "  df1, alphas1 = probAdjustment(dev_data, unscaled, probs, preds, y_test, lr_Ac, lr_Av, epochs_A)\n",
        "\n",
        "  # Post-Validation Model Application\n",
        "  probs = torch.from_numpy(model.predict_proba(feature_matrix)[:,1])\n",
        "  preds = torch.where(probs > 0.5, 1, 0)\n",
        "\n",
        "  # Bias Adjustment #2\n",
        "  print(\"\\nPerforming Protected Feature Bias Adjustment #2\\n\")\n",
        "  df2, alphas2 = probAdjustment(dev_data, feature_matrix, probs, preds, target_vector, lr_Ac, lr_Av, epochs_A)\n",
        "\n",
        "  # Bias Adjustment #3\n",
        "  df3 = df2.copy()\n",
        "  print(\"\\nPerforming Civ-Vet Bias Adjustment\\n\")\n",
        "  df3, vet_adjust, civ_adjust = finalAdjustment(df3, 'Veteran', 0.75, 0.65, 0.001)\n",
        "  df3, probs, preds = fixProbs2(df3, 'Veteran', vet_adjust, civ_adjust)\n",
        "\n",
        "  # Bias Adjustment #4\n",
        "  print(\"\\nPerforming Final Bias Adjustment\\n\")\n",
        "  final_df, alphas3 = probAdjustment(dev_data, feature_matrix, torch.tensor(probs.values), torch.tensor(preds.values), target_vector, lr_Ac, lr_Av, epochs_A)\n",
        "\n",
        "\n",
        "  return final_df"
      ],
      "metadata": {
        "id": "ybEMqYpuNij0"
      },
      "execution_count": null,
      "outputs": []
    },
    {
      "cell_type": "code",
      "source": [
        "final_df = main()"
      ],
      "metadata": {
        "colab": {
          "base_uri": "https://localhost:8080/",
          "height": 1000
        },
        "id": "RCs36j8YjFB7",
        "outputId": "e916c670-cd30-4c88-c5d1-e0882f6496e7",
        "collapsed": true
      },
      "execution_count": null,
      "outputs": [
        {
          "output_type": "stream",
          "name": "stdout",
          "text": [
            "<class 'pandas.core.frame.DataFrame'>\n",
            "RangeIndex: 619 entries, 0 to 618\n",
            "Columns: 224 entries, Unnamed: 0 to Disability\n",
            "dtypes: float64(219), int64(5)\n",
            "memory usage: 1.1 MB\n",
            "\n",
            "<class 'pandas.core.frame.DataFrame'>\n",
            "RangeIndex: 1986 entries, 0 to 1985\n",
            "Columns: 224 entries, Unnamed: 0 to Disability\n",
            "dtypes: float64(223), int64(1)\n",
            "memory usage: 3.4 MB\n",
            "\n",
            "(619, 224) (1986, 224)\n",
            "Data Shapes: (torch.Size([619, 222]), torch.Size([619]))\n",
            "\n"
          ]
        },
        {
          "output_type": "display_data",
          "data": {
            "text/plain": [
              "<Figure size 640x480 with 2 Axes>"
            ],
            "image/png": "[encoded data removed]"
          },
          "metadata": {}
        },
        {
          "output_type": "display_data",
          "data": {
            "text/plain": [
              "<Figure size 640x480 with 2 Axes>"
            ],
            "image/png": "[encoded data removed]"
          },
          "metadata": {}
        },
        {
          "output_type": "display_data",
          "data": {
            "text/plain": [
              "<Figure size 640x480 with 2 Axes>"
            ],
            "image/png": "[encoded data removed]"
          },
          "metadata": {}
        },
        {
          "output_type": "stream",
          "name": "stdout",
          "text": [
            "\n",
            "Data Shapes: (torch.Size([619, 222]), torch.Size([619]))\n",
            "\n",
            "Accuracy: 97.31%\n",
            "\n",
            "Performing Protected Feature Bias Adjustment #1\n",
            "\n",
            "Pre-Adjustment Bias Summary\n",
            "\n",
            "Female Veteran Bias: 100.00% - 65.45% = 34.55%\n",
            "Female Civilian Bias: 6.94% - 2.44% = 4.51%\n",
            "URM Veteran Bias: 100.00% - 66.07% = 33.93%\n",
            "URM Civilian Bias: 6.33% - 2.94% = 3.39%\n",
            "Disability Veteran Bias: 100.00% - 69.35% = 30.65%\n",
            "Disability Civilian Bias: 6.67% - 0.00% = 6.67%\n",
            "\n",
            "Accuracy: 88.71%\n",
            "Post-Adjustment Bias Summary\n",
            "Female Veteran Bias: 100.00% - 100.00% = 0.00%\n",
            "Female Civilian Bias: 6.94% - 4.88% = 2.07%\n",
            "URM Veteran Bias: 100.00% - 100.00% = 0.00%\n",
            "URM Civilian Bias: 6.33% - 5.88% = 0.45%\n",
            "Disability Veteran Bias: 100.00% - 100.00% = 0.00%\n",
            "Disability Civilian Bias: 6.67% - 4.35% = 2.32%\n",
            "\n",
            "\n",
            "Performing Protected Feature Bias Adjustment #2\n",
            "\n",
            "Pre-Adjustment Bias Summary\n",
            "\n",
            "Female Veteran Bias: 93.55% - 59.69% = 33.86%\n",
            "Female Civilian Bias: 3.85% - 0.00% = 3.85%\n",
            "URM Veteran Bias: 94.83% - 60.00% = 34.83%\n",
            "URM Civilian Bias: 3.53% - 0.00% = 3.53%\n",
            "Disability Veteran Bias: 93.33% - 64.57% = 28.76%\n",
            "Disability Civilian Bias: 3.15% - 0.00% = 3.15%\n",
            "\n",
            "Accuracy: 88.21%\n",
            "Post-Adjustment Bias Summary\n",
            "Female Veteran Bias: 95.16% - 93.72% = 1.44%\n",
            "Female Civilian Bias: 3.85% - 2.27% = 1.57%\n",
            "URM Veteran Bias: 94.83% - 93.85% = 0.98%\n",
            "URM Civilian Bias: 3.53% - 2.70% = 0.83%\n",
            "Disability Veteran Bias: 93.33% - 94.17% = -0.84%\n",
            "Disability Civilian Bias: 3.50% - 2.50% = 1.00%\n",
            "\n",
            "\n",
            "Performing Civ-Vet Bias Adjustment\n",
            "\n",
            "Epoch 0, Loss: 0.8079245772046912, Adj1: 0.001907114624505929, Adj2: 0.006172131147540984\n",
            "Epoch 100, Loss: 0.24637897146806625, Adj1: 0.09878458498023722, Adj2: 0.33507923497267794\n",
            "Epoch 200, Loss: 0.01832868960452705, Adj1: 0.12024703557312257, Adj2: 0.4211721311475417\n",
            "Vet Final Rate: 0.7509881422924901\n",
            "Civ Final Rate: 0.6502732240437158\n",
            "\n",
            "Performing Final Bias Adjustment\n",
            "\n",
            "Pre-Adjustment Bias Summary\n",
            "\n",
            "Female Veteran Bias: 85.48% - 71.73% = 13.76%\n",
            "Female Civilian Bias: 45.30% - 100.00% = -54.70%\n",
            "URM Veteran Bias: 89.66% - 70.77% = 18.89%\n",
            "URM Civilian Bias: 49.80% - 100.00% = -50.20%\n",
            "Disability Veteran Bias: 86.67% - 73.54% = 13.12%\n",
            "Disability Civilian Bias: 55.24% - 100.00% = -44.76%\n",
            "\n",
            "Accuracy: 72.21%\n",
            "Post-Adjustment Bias Summary\n",
            "Female Veteran Bias: 85.48% - 87.96% = -2.47%\n",
            "Female Civilian Bias: 45.30% - 34.85% = 10.45%\n",
            "URM Veteran Bias: 89.66% - 86.67% = 2.99%\n",
            "URM Civilian Bias: 41.57% - 41.44% = 0.13%\n",
            "Disability Veteran Bias: 86.67% - 87.44% = -0.78%\n",
            "Disability Civilian Bias: 41.61% - 41.25% = 0.36%\n",
            "\n"
          ]
        }
      ]
    },
    {
      "cell_type": "markdown",
      "metadata": {
        "id": "O0dTRxw-dyg8"
      },
      "source": [
        "# Final Model Fitting + Analysis:"
      ]
    },
    {
      "cell_type": "code",
      "source": [
        "x, y = processData(dev_data)\n",
        "\n",
        "# Change y officially\n",
        "y = final_df['new_interview']\n",
        "y = torch.tensor(y.values, dtype = torch.float32)\n",
        "\n",
        "# Train the Final Model\n",
        "#scales and splits the data into train/test\n",
        "x_train, x_test, y_train, y_test, unscaled = trainTestScaling(x, y, 42)\n",
        "\n",
        "#creates a model, optimizer, and scheduler\n",
        "model = BinaryLogisticRegression(x_train.shape[1])\n",
        "criterion = nn.BCELoss()\n",
        "optimizer = torch.optim.AdamW(model.parameters(), lr = 0.01, weight_decay = 1e-2)\n",
        "\n",
        "#train the model\n",
        "model = train_model(model, x_train, y_train, x_test, y_test, criterion, optimizer, 1000)"
      ],
      "metadata": {
        "colab": {
          "base_uri": "https://localhost:8080/"
        },
        "id": "m8OgyQPuSL5_",
        "outputId": "118912cc-2183-441f-8ec9-da7a8533b1e8"
      },
      "execution_count": null,
      "outputs": [
        {
          "output_type": "stream",
          "name": "stdout",
          "text": [
            "Data Shapes: (torch.Size([619, 222]), torch.Size([619]))\n",
            "\n",
            "Epoch [100/1000], Loss: 0.0000001928, Test Accuracy: 75.81%\n",
            "Epoch [200/1000], Loss: 0.0000000000, Test Accuracy: 73.66%\n",
            "Epoch [300/1000], Loss: 0.0000000000, Test Accuracy: 74.19%\n",
            "Stopping early due to no improvement in 250 epochs.\n",
            "Best Model Accuracy: 80.11%\n"
          ]
        }
      ]
    },
    {
      "cell_type": "markdown",
      "source": [
        "# Applying Model on Pilot:"
      ],
      "metadata": {
        "id": "5_uDp6HceGN8"
      }
    },
    {
      "cell_type": "code",
      "source": [
        "x_analysis, y_analysis = processData(pilot_data)\n",
        "preds, outs = predict(model, x_analysis)\n",
        "\n",
        "accuracy = (preds == y_analysis).sum() / len(y_analysis)\n",
        "print(f'Accuracy: {accuracy * 100:.2f}%')"
      ],
      "metadata": {
        "id": "nY7LhGIjeFs0",
        "colab": {
          "base_uri": "https://localhost:8080/"
        },
        "outputId": "83d347b4-4e7b-4895-bdd1-b87a7838af27"
      },
      "execution_count": null,
      "outputs": [
        {
          "output_type": "stream",
          "name": "stdout",
          "text": [
            "Data Shapes: (torch.Size([1986, 222]), torch.Size([1986]))\n",
            "\n",
            "Accuracy: 48.44%\n"
          ]
        }
      ]
    },
    {
      "cell_type": "code",
      "source": [
        "vet_filter = torch.where(x_analysis[:,218] == 1, True, False)\n",
        "\n",
        "vet_success = preds[vet_filter]\n",
        "civ_success = preds[~vet_filter]\n",
        "\n",
        "vet_success_rate = (vet_success == 1).sum() / len(vet_success)\n",
        "civ_success_rate = (civ_success == 1).sum() / len(civ_success)\n",
        "\n",
        "print(f'Veteran Success Rate: {vet_success_rate * 100:.2f}%')\n",
        "print(f'Civilian Success Rate: {civ_success_rate * 100:.2f}%')"
      ],
      "metadata": {
        "colab": {
          "base_uri": "https://localhost:8080/"
        },
        "id": "qzj9t-c7ocax",
        "outputId": "a07b2c2c-02c3-4956-ba5b-9f99a22aca96"
      },
      "execution_count": null,
      "outputs": [
        {
          "output_type": "stream",
          "name": "stdout",
          "text": [
            "Veteran Success Rate: 99.05%\n",
            "Civilian Success Rate: 74.36%\n"
          ]
        }
      ]
    },
    {
      "cell_type": "code",
      "source": [
        "analysis_df = pd.DataFrame(x_analysis.numpy(), columns = pilot_data.columns[2:])\n",
        "analysis_df['interview'] = y_analysis.float().numpy()\n",
        "\n",
        "biasRatings(analysis_df, 'interview', [\"Female\", \"URM\", \"Disability\"])"
      ],
      "metadata": {
        "colab": {
          "base_uri": "https://localhost:8080/"
        },
        "id": "2urxhpaGqhMV",
        "outputId": "35ade01b-dac1-4aa3-e445-2bb7f963e644"
      },
      "execution_count": null,
      "outputs": [
        {
          "output_type": "stream",
          "name": "stdout",
          "text": [
            "Female Veteran Bias: 100.00% - 63.43% = 36.57%\n",
            "Female Civilian Bias: 11.70% - 0.23% = 11.47%\n",
            "URM Veteran Bias: 100.00% - 65.31% = 34.69%\n",
            "URM Civilian Bias: 10.82% - 0.00% = 10.82%\n",
            "Disability Veteran Bias: 100.00% - 69.61% = 30.39%\n",
            "Disability Civilian Bias: 9.27% - 0.44% = 8.83%\n"
          ]
        }
      ]
    }
  ],
  "metadata": {
    "colab": {
      "gpuType": "T4",
      "provenance": [],
      "collapsed_sections": [
        "I-gGY9Li7-kA",
        "3vrXUNi9D5cB",
        "CGtDw64AG6oT"
      ]
    },
    "kaggle": {
      "accelerator": "none",
      "dataSources": [
        {
          "datasetId": 102606,
          "sourceId": 243457,
          "sourceType": "datasetVersion"
        }
      ],
      "dockerImageVersionId": 30066,
      "isGpuEnabled": false,
      "isInternetEnabled": false,
      "language": "python",
      "sourceType": "notebook"
    },
    "kernelspec": {
      "display_name": "Python 3",
      "name": "python3"
    },
    "language_info": {
      "codemirror_mode": {
        "name": "ipython",
        "version": 3
      },
      "file_extension": ".py",
      "mimetype": "text/x-python",
      "name": "python",
      "nbconvert_exporter": "python",
      "pygments_lexer": "ipython3",
      "version": "3.7.9"
    }
  },
  "nbformat": 4,
  "nbformat_minor": 0
}