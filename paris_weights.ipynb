{
  "nbformat": 4,
  "nbformat_minor": 0,
  "metadata": {
    "colab": {
      "provenance": []
    },
    "kernelspec": {
      "name": "python3",
      "display_name": "Python 3"
    },
    "language_info": {
      "name": "python"
    }
  },
  "cells": [
    {
      "cell_type": "code",
      "execution_count": 17,
      "metadata": {
        "id": "RU5xG4PZPhxu"
      },
      "outputs": [],
      "source": [
        "import pickle\n",
        "import pandas as pd\n",
        "import kagglehub\n",
        "\n",
        "#download latest version of the file\n",
        "path = kagglehub.dataset_download(\"vingkan/strategeion-resume-skills\")\n",
        "\n",
        "#open the resumes_development.csv\n",
        "dev_data = pd.read_csv(path + '/resumes_development.csv')\n",
        "\n",
        "# open a file, where you stored the pickled data\n",
        "file = open('PARiS.pickle', 'rb')\n",
        "\n",
        "# dump information to that file\n",
        "weights = pickle.load(file)[0]\n",
        "\n",
        "# close the file\n",
        "file.close()\n",
        "\n",
        "# feature names\n",
        "features = dev_data.columns[2:]\n",
        "\n",
        "# Features & Weights\n",
        "print(\"Feature\\tWeights\")\n",
        "for i in range(len(weights)):\n",
        "  print(f\"{features[i]}:\\t{weights[i]:.2f}\")"
      ]
    }
  ]
}